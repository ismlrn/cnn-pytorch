{
 "cells": [
  {
   "cell_type": "code",
   "execution_count": null,
   "id": "7922e224-4173-4167-be47-bfda00fe8546",
   "metadata": {},
   "outputs": [],
   "source": [
    "#%%\n",
    "\n",
    "import torch\n",
    "from torchvision import datasets, transforms\n",
    "from torch.utils.data import DataLoader"
   ]
  },
  {
   "cell_type": "code",
   "execution_count": null,
   "id": "12aac361-6582-4012-8609-417b76a9991b",
   "metadata": {},
   "outputs": [
    {
     "name": "stderr",
     "output_type": "stream",
     "text": [
      "100%|██████████| 26.4M/26.4M [00:15<00:00, 1.75MB/s]\n",
      "100%|██████████| 29.5k/29.5k [00:00<00:00, 155kB/s]\n",
      "100%|██████████| 4.42M/4.42M [00:03<00:00, 1.36MB/s]\n",
      "100%|██████████| 5.15k/5.15k [00:00<00:00, 9.65MB/s]\n"
     ]
    }
   ],
   "source": [
    "# %%\n",
    "\n",
    "# define a transformation for converting to tensor and normalizing\n",
    "transform = transforms.Compose([\n",
    "    transforms.ToTensor(),  # Convert image to tensor\n",
    "    transforms.Normalize((0.5,), (0.5,))  # Normalize to mean=0.5, std=0.5\n",
    "])\n",
    "\n",
    "# download FashionMNIST training and test datasets from torchvision\n",
    "train_data = datasets.FashionMNIST(root='data', train=True, download=True, transform=transform)\n",
    "test_data = datasets.FashionMNIST(root='data', train=False, download=True, transform=transform)\n",
    "\n",
    "# create data loaders for training and testing\n",
    "train_loader = DataLoader(train_data, batch_size=64, shuffle=True)\n",
    "test_loader = DataLoader(test_data, batch_size=64)"
   ]
  },
  {
   "cell_type": "code",
   "execution_count": null,
   "id": "fbdb42cd-916a-416c-a2f5-338c445f84af",
   "metadata": {},
   "outputs": [
    {
     "name": "stdout",
     "output_type": "stream",
     "text": [
      "torch.Size([60000, 28, 28])\n",
      "torch.Size([10000, 28, 28])\n"
     ]
    }
   ],
   "source": [
    "# %%\n",
    "\n",
    "print(train_data.data.shape) # (60000, 28, 28)\n",
    "print(test_data.data.shape) # (60000,)"
   ]
  },
  {
   "cell_type": "code",
   "execution_count": null,
   "id": "bbd08f14-f854-434a-82e1-886d90b2230d",
   "metadata": {},
   "outputs": [],
   "source": [
    "# %%\n",
    "\n",
    "import torch.nn as nn\n",
    "import torch.nn.functional as F\n",
    "\n",
    "class CNNTorch(nn.Module):\n",
    "    def __init__(self):\n",
    "        super(CNNTorch, self).__init__()\n",
    "        \n",
    "        # convolutional layers\n",
    "        self.conv1 = nn.Conv2d(in_channels=1, out_channels=16, kernel_size=3, padding=1)  # 28x28 → 28x28\n",
    "        self.conv2 = nn.Conv2d(16, 32, 3, padding=1)  # 14x14 → 14x14 after pooling\n",
    "\n",
    "        # maxpooling layer halves the height/width\n",
    "        self.pool = nn.MaxPool2d(2, 2)  \n",
    "\n",
    "        # fully connected layers\n",
    "        self.fc1 = nn.Linear(32 * 7 * 7, 128)  # 7x7 from 28 → 14 → 7\n",
    "        self.fc2 = nn.Linear(128, 10)  # 10 classes\n",
    "\n",
    "    def forward(self, x):\n",
    "        x = self.pool(F.relu(self.conv1(x)))  # (B,16,28,28) → (B,16,14,14)\n",
    "        x = self.pool(F.relu(self.conv2(x)))  # (B,32,14,14) → (B,32,7,7)\n",
    "        x = x.view(-1, 32 * 7 * 7)  # flatten\n",
    "        x = F.relu(self.fc1(x))\n",
    "        x = self.fc2(x)  # logits (no softmax)\n",
    "        return x"
   ]
  },
  {
   "cell_type": "code",
   "execution_count": null,
   "id": "127f92be-77c9-4f7d-8585-763ed127d69c",
   "metadata": {},
   "outputs": [
    {
     "name": "stdout",
     "output_type": "stream",
     "text": [
      "Epoch [1/5], Loss: 447.3794\n",
      "Epoch [2/5], Loss: 289.1780\n",
      "Epoch [3/5], Loss: 245.1323\n",
      "Epoch [4/5], Loss: 219.0491\n",
      "Epoch [5/5], Loss: 195.7015\n"
     ]
    }
   ],
   "source": [
    "# %%\n",
    "\n",
    "import torch.optim as optim\n",
    "\n",
    "# initialize model and move to device\n",
    "device = torch.device(\"cuda\" if torch.cuda.is_available() else \"cpu\")\n",
    "model = CNNTorch().to(device)\n",
    "\n",
    "# using Adam optimizer and cross entropy loss function\n",
    "optimizer = optim.Adam(model.parameters(), lr=0.001)\n",
    "criterion = nn.CrossEntropyLoss()\n",
    "\n",
    "# training loop \n",
    "epochs = 5\n",
    "for epoch in range(epochs):\n",
    "    model.train()\n",
    "    running_loss = 0.0\n",
    "\n",
    "    for images, labels in train_loader:\n",
    "        images, labels = images.to(device), labels.to(device)\n",
    "\n",
    "        # pass images through model to get outputs forward pass\n",
    "        outputs = model(images)\n",
    "        loss = criterion(outputs, labels)\n",
    "\n",
    "        # backpropagating the loss and updating the weights \n",
    "        optimizer.zero_grad()\n",
    "        loss.backward()\n",
    "        optimizer.step()\n",
    "\n",
    "        running_loss += loss.item()\n",
    "\n",
    "    print(f\"Epoch [{epoch+1}/{epochs}], Loss: {running_loss:.4f}\")"
   ]
  },
  {
   "cell_type": "code",
   "execution_count": null,
   "id": "fe0dd3c7-2760-489a-8775-d2a41e86eccc",
   "metadata": {},
   "outputs": [
    {
     "name": "stdout",
     "output_type": "stream",
     "text": [
      "Test Accuracy: 90.51%\n"
     ]
    }
   ],
   "source": [
    "# %%\n",
    "\n",
    "# testing the model\n",
    "model.eval()  # set model to eval mode to disable gradient tracking\n",
    "correct = 0\n",
    "total = 0\n",
    "\n",
    "with torch.no_grad():\n",
    "    for images, labels in test_loader:\n",
    "        images, labels = images.to(device), labels.to(device)\n",
    "        outputs = model(images)\n",
    "        _, predicted = torch.max(outputs, 1)\n",
    "        total += labels.size(0)\n",
    "        correct += (predicted == labels).sum().item()\n",
    "\n",
    "# Test Accuracy was: 90.51%\n",
    "print(f\"Test Accuracy: {100 * correct / total:.2f}%\")# %%"
   ]
  },
  {
   "cell_type": "code",
   "execution_count": null,
   "id": "342bbebd-a59c-4a11-894c-296e6adb9b1c",
   "metadata": {},
   "outputs": [],
   "source": [
    "# %%\n",
    "\n",
    "# save the model weights only to reload later\n",
    "torch.save(model.state_dict(), f\"data/fashion_cnn_weights_{epochs}.pth\")"
   ]
  },
  {
   "cell_type": "code",
   "execution_count": null,
   "id": "1df94d63-fb27-4984-a166-082c334d2960",
   "metadata": {},
   "outputs": [],
   "source": [
    "# %%\n",
    "\n",
    "# load the model\n",
    "# model = CNNTorch()\n",
    "# model.load_state_dict(torch.load(\"data/fashion_cnn_weights.pth\"))\n",
    "# model.eval()"
   ]
  },
  {
   "cell_type": "code",
   "execution_count": null,
   "id": "f0d3417c-2214-43f9-b412-dc526557c035",
   "metadata": {},
   "outputs": [],
   "source": [
    "# %%\n",
    "\n",
    "# for saving the model, you can save the entire model too\n",
    "# torch.save(model, f\"data/fashion_cnn_model_{epochs}.pth\")\n",
    "# model = torch.load(\"data/fashion_cnn_model_{epochs}.pth\")\n",
    "# model.eval()"
   ]
  }
 ],
 "metadata": {
  "language_info": {
   "codemirror_mode": {
    "name": "ipython",
    "version": 3
   },
   "file_extension": ".py",
   "mimetype": "text/x-python",
   "name": "python",
   "nbconvert_exporter": "python",
   "pygments_lexer": "ipython3",
   "version": 3
  }
 },
 "nbformat": 4,
 "nbformat_minor": 2
}
